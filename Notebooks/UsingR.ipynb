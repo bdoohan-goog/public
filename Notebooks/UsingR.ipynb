{
 "cells": [
  {
   "cell_type": "code",
   "execution_count": 1,
   "id": "505ca3d4-6be1-4924-89ee-c2d31ba0cf89",
   "metadata": {},
   "outputs": [
    {
     "name": "stderr",
     "output_type": "stream",
     "text": [
      "Installing package into ‘/home/jupyter/.R/library’\n",
      "(as ‘lib’ is unspecified)\n",
      "\n"
     ]
    }
   ],
   "source": [
    "install.packages(\"tidyverse\")"
   ]
  },
  {
   "cell_type": "code",
   "execution_count": 6,
   "id": "4eaf05d9-2147-47ac-ab3d-b830c13e4bfb",
   "metadata": {},
   "outputs": [],
   "source": [
    "library(\"tidyverse\")"
   ]
  },
  {
   "cell_type": "code",
   "execution_count": 8,
   "id": "15fccd81-0596-4031-b632-dd857449da77",
   "metadata": {},
   "outputs": [
    {
     "name": "stdout",
     "output_type": "stream",
     "text": [
      "[1] 1\n",
      "[1] 4\n",
      "[1] 27\n",
      "[1] 256\n",
      "[1] 3125\n",
      "[1] 46656\n",
      "[1] 823543\n",
      "[1] 16777216\n",
      "[1] 387420489\n",
      "[1] 1e+10\n",
      "[1] 285311670611\n",
      "[1] 8.9161e+12\n",
      "[1] 3.028751e+14\n",
      "[1] 1.111201e+16\n",
      "[1] 4.378939e+17\n",
      "[1] 1.844674e+19\n",
      "[1] 8.272403e+20\n",
      "[1] 3.934641e+22\n",
      "[1] 1.97842e+24\n",
      "[1] 1.048576e+26\n",
      "[1] 5.842587e+27\n",
      "[1] 3.414279e+29\n",
      "[1] 2.088047e+31\n",
      "[1] 1.333736e+33\n",
      "[1] 8.881784e+34\n",
      "[1] 6.15612e+36\n",
      "[1] 4.434265e+38\n",
      "[1] 3.314552e+40\n",
      "[1] 2.567686e+42\n",
      "[1] 2.058911e+44\n"
     ]
    }
   ],
   "source": [
    "for (i in 1:30){\n",
    "    print(i^i)\n",
    "    }"
   ]
  },
  {
   "cell_type": "code",
   "execution_count": null,
   "id": "25faa625-a91a-4dff-94ec-4a69d5e60d71",
   "metadata": {},
   "outputs": [],
   "source": []
  }
 ],
 "metadata": {
  "kernelspec": {
   "display_name": "R (Local)",
   "language": "R",
   "name": "local-r"
  },
  "language_info": {
   "codemirror_mode": "r",
   "file_extension": ".r",
   "mimetype": "text/x-r-source",
   "name": "R",
   "pygments_lexer": "r",
   "version": "4.2.1"
  }
 },
 "nbformat": 4,
 "nbformat_minor": 5
}
